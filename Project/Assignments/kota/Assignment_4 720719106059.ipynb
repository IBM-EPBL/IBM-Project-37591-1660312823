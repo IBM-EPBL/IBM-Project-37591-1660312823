{
 "cells": [
  {
   "cell_type": "markdown",
   "id": "072cd628",
   "metadata": {},
   "source": [
    "# Assignment 4\n",
    "# Customer Segmentation Analysis"
   ]
  },
  {
   "cell_type": "markdown",
   "id": "50dfd68e",
   "metadata": {},
   "source": [
    "# importing libraries"
   ]
  },
  {
   "cell_type": "code",
   "execution_count": 2,
   "id": "0eae75dd",
   "metadata": {},
   "outputs": [],
   "source": [
    "import numpy as np\n",
    "import pandas as pd\n",
    "import matplotlib.pyplot as plt\n",
    "import seaborn as sns\n",
    "from IPython.display import display\n",
    "from sklearn import preprocessing\n",
    "from sklearn.cluster import KMeans\n",
    "from sklearn.preprocessing import LabelEncoder\n",
    "from sklearn.model_selection import train_test_split\n",
    "from sklearn.linear_model import LinearRegression\n",
    "from sklearn.metrics import r2_score"
   ]
  },
  {
   "cell_type": "markdown",
   "id": "74d94676",
   "metadata": {},
   "source": [
    "# 1. Loading the dataset"
   ]
  },
  {
   "cell_type": "code",
   "execution_count": 3,
   "id": "e76f3620",
   "metadata": {},
   "outputs": [],
   "source": [
    "ds=pd.read_csv(r\"E:\\4-1\\Nalaya Thiran\\Mall_Customers.csv\")"
   ]
  },
  {
   "cell_type": "code",
   "execution_count": 4,
   "id": "a8461692",
   "metadata": {},
   "outputs": [
    {
     "data": {
      "text/html": [
       "<div>\n",
       "<style scoped>\n",
       "    .dataframe tbody tr th:only-of-type {\n",
       "        vertical-align: middle;\n",
       "    }\n",
       "\n",
       "    .dataframe tbody tr th {\n",
       "        vertical-align: top;\n",
       "    }\n",
       "\n",
       "    .dataframe thead th {\n",
       "        text-align: right;\n",
       "    }\n",
       "</style>\n",
       "<table border=\"1\" class=\"dataframe\">\n",
       "  <thead>\n",
       "    <tr style=\"text-align: right;\">\n",
       "      <th></th>\n",
       "      <th>CustomerID</th>\n",
       "      <th>Gender</th>\n",
       "      <th>Age</th>\n",
       "      <th>Annual Income (k$)</th>\n",
       "      <th>Spending Score (1-100)</th>\n",
       "    </tr>\n",
       "  </thead>\n",
       "  <tbody>\n",
       "    <tr>\n",
       "      <th>0</th>\n",
       "      <td>1</td>\n",
       "      <td>Male</td>\n",
       "      <td>19</td>\n",
       "      <td>15</td>\n",
       "      <td>39</td>\n",
       "    </tr>\n",
       "    <tr>\n",
       "      <th>1</th>\n",
       "      <td>2</td>\n",
       "      <td>Male</td>\n",
       "      <td>21</td>\n",
       "      <td>15</td>\n",
       "      <td>81</td>\n",
       "    </tr>\n",
       "    <tr>\n",
       "      <th>2</th>\n",
       "      <td>3</td>\n",
       "      <td>Female</td>\n",
       "      <td>20</td>\n",
       "      <td>16</td>\n",
       "      <td>6</td>\n",
       "    </tr>\n",
       "    <tr>\n",
       "      <th>3</th>\n",
       "      <td>4</td>\n",
       "      <td>Female</td>\n",
       "      <td>23</td>\n",
       "      <td>16</td>\n",
       "      <td>77</td>\n",
       "    </tr>\n",
       "    <tr>\n",
       "      <th>4</th>\n",
       "      <td>5</td>\n",
       "      <td>Female</td>\n",
       "      <td>31</td>\n",
       "      <td>17</td>\n",
       "      <td>40</td>\n",
       "    </tr>\n",
       "  </tbody>\n",
       "</table>\n",
       "</div>"
      ],
      "text/plain": [
       "   CustomerID  Gender  Age  Annual Income (k$)  Spending Score (1-100)\n",
       "0           1    Male   19                  15                      39\n",
       "1           2    Male   21                  15                      81\n",
       "2           3  Female   20                  16                       6\n",
       "3           4  Female   23                  16                      77\n",
       "4           5  Female   31                  17                      40"
      ]
     },
     "metadata": {},
     "output_type": "display_data"
    },
    {
     "data": {
      "text/html": [
       "<div>\n",
       "<style scoped>\n",
       "    .dataframe tbody tr th:only-of-type {\n",
       "        vertical-align: middle;\n",
       "    }\n",
       "\n",
       "    .dataframe tbody tr th {\n",
       "        vertical-align: top;\n",
       "    }\n",
       "\n",
       "    .dataframe thead th {\n",
       "        text-align: right;\n",
       "    }\n",
       "</style>\n",
       "<table border=\"1\" class=\"dataframe\">\n",
       "  <thead>\n",
       "    <tr style=\"text-align: right;\">\n",
       "      <th></th>\n",
       "      <th>CustomerID</th>\n",
       "      <th>Gender</th>\n",
       "      <th>Age</th>\n",
       "      <th>Annual Income (k$)</th>\n",
       "      <th>Spending Score (1-100)</th>\n",
       "    </tr>\n",
       "  </thead>\n",
       "  <tbody>\n",
       "    <tr>\n",
       "      <th>195</th>\n",
       "      <td>196</td>\n",
       "      <td>Female</td>\n",
       "      <td>35</td>\n",
       "      <td>120</td>\n",
       "      <td>79</td>\n",
       "    </tr>\n",
       "    <tr>\n",
       "      <th>196</th>\n",
       "      <td>197</td>\n",
       "      <td>Female</td>\n",
       "      <td>45</td>\n",
       "      <td>126</td>\n",
       "      <td>28</td>\n",
       "    </tr>\n",
       "    <tr>\n",
       "      <th>197</th>\n",
       "      <td>198</td>\n",
       "      <td>Male</td>\n",
       "      <td>32</td>\n",
       "      <td>126</td>\n",
       "      <td>74</td>\n",
       "    </tr>\n",
       "    <tr>\n",
       "      <th>198</th>\n",
       "      <td>199</td>\n",
       "      <td>Male</td>\n",
       "      <td>32</td>\n",
       "      <td>137</td>\n",
       "      <td>18</td>\n",
       "    </tr>\n",
       "    <tr>\n",
       "      <th>199</th>\n",
       "      <td>200</td>\n",
       "      <td>Male</td>\n",
       "      <td>30</td>\n",
       "      <td>137</td>\n",
       "      <td>83</td>\n",
       "    </tr>\n",
       "  </tbody>\n",
       "</table>\n",
       "</div>"
      ],
      "text/plain": [
       "     CustomerID  Gender  Age  Annual Income (k$)  Spending Score (1-100)\n",
       "195         196  Female   35                 120                      79\n",
       "196         197  Female   45                 126                      28\n",
       "197         198    Male   32                 126                      74\n",
       "198         199    Male   32                 137                      18\n",
       "199         200    Male   30                 137                      83"
      ]
     },
     "metadata": {},
     "output_type": "display_data"
    },
    {
     "name": "stdout",
     "output_type": "stream",
     "text": [
      "shape: (200, 5)\n"
     ]
    }
   ],
   "source": [
    "display(ds.head())\n",
    "display(ds.tail())\n",
    "print('shape:',ds.shape)"
   ]
  },
  {
   "cell_type": "markdown",
   "id": "f6f120cd",
   "metadata": {},
   "source": [
    "# 2.Visualizations\n",
    "# uni-variate Analysis"
   ]
  },
  {
   "cell_type": "code",
   "execution_count": 5,
   "id": "7eb5b728",
   "metadata": {},
   "outputs": [
    {
     "data": {
      "image/png": "[encoded data removed]",
      "text/plain": [
       "<Figure size 432x288 with 1 Axes>"
      ]
     },
     "metadata": {
      "needs_background": "light"
     },
     "output_type": "display_data"
    }
   ],
   "source": [
    "sns.histplot(ds['Annual Income (k$)'])\n",
    "plt.title('Distribution of Annual Income', fontsize = 20)\n",
    "plt.xlabel('Range of Annual Income')\n",
    "plt.ylabel('Count')\n",
    "plt.show()"
   ]
  },
  {
   "cell_type": "code",
   "execution_count": 6,
   "id": "4aae7ef8",
   "metadata": {},
   "outputs": [
    {
     "data": {
      "image/png": "[encoded data removed]",
      "text/plain": [
       "<Figure size 432x288 with 1 Axes>"
      ]
     },
     "metadata": {
      "needs_background": "light"
     },
     "output_type": "display_data"
    }
   ],
   "source": [
    "sns.histplot(ds['Age'])\n",
    "plt.title('Distribution of Age', fontsize = 20)\n",
    "plt.xlabel('Range of Age')\n",
    "plt.ylabel('Count')\n",
    "plt.show()"
   ]
  },
  {
   "cell_type": "markdown",
   "id": "96a0bddb",
   "metadata": {},
   "source": [
    "# bi-variate Analysis"
   ]
  },
  {
   "cell_type": "code",
   "execution_count": 7,
   "id": "b523517a",
   "metadata": {},
   "outputs": [
    {
     "data": {
      "image/png": "[encoded data removed]",
      "text/plain": [
       "<Figure size 432x288 with 1 Axes>"
      ]
     },
     "metadata": {
      "needs_background": "light"
     },
     "output_type": "display_data"
    }
   ],
   "source": [
    "sns.countplot(x=ds['Age'])\n",
    "plt.show()"
   ]
  },
  {
   "cell_type": "code",
   "execution_count": 8,
   "id": "e07eb79b",
   "metadata": {},
   "outputs": [
    {
     "name": "stdout",
     "output_type": "stream",
     "text": [
      "Female    112\n",
      "Male       88\n",
      "Name: Gender, dtype: int64\n"
     ]
    },
    {
     "data": {
      "image/png": "[encoded data removed]",
      "text/plain": [
       "<Figure size 432x288 with 1 Axes>"
      ]
     },
     "metadata": {},
     "output_type": "display_data"
    }
   ],
   "source": [
    "labels = ['Male','Female']\n",
    "sizes = ds['Gender'].value_counts()\n",
    "print(sizes)\n",
    "fig1, ax1 = plt.subplots()\n",
    "ax1.pie(sizes, labels=labels, autopct='%1.1f%%', shadow=True)\n",
    "ax1.axis('equal')\n",
    "plt.show()"
   ]
  },
  {
   "cell_type": "markdown",
   "id": "d53850b6",
   "metadata": {},
   "source": [
    "# Multi-variate Analysis"
   ]
  },
  {
   "cell_type": "code",
   "execution_count": 9,
   "id": "af69aebe",
   "metadata": {},
   "outputs": [
    {
     "data": {
      "text/plain": [
       "<seaborn.axisgrid.PairGrid at 0x26d8fdb80a0>"
      ]
     },
     "execution_count": 9,
     "metadata": {},
     "output_type": "execute_result"
    },
    {
     "data": {
      "image/png": "[encoded data removed]",
      "text/plain": [
       "<Figure size 720x720 with 20 Axes>"
      ]
     },
     "metadata": {
      "needs_background": "light"
     },
     "output_type": "display_data"
    }
   ],
   "source": [
    "sns.pairplot(ds)"
   ]
  },
  {
   "cell_type": "code",
   "execution_count": 10,
   "id": "d256e39d",
   "metadata": {},
   "outputs": [
    {
     "data": {
      "image/png": "[encoded data removed]",
      "text/plain": [
       "<Figure size 2016x576 with 2 Axes>"
      ]
     },
     "metadata": {
      "needs_background": "light"
     },
     "output_type": "display_data"
    }
   ],
   "source": [
    "plt.figure(figsize=(28,8))\n",
    "corr=ds.corr()\n",
    "sns.heatmap(corr,annot=True,vmin=-1, vmax=1, center= 0);"
   ]
  },
  {
   "cell_type": "markdown",
   "id": "082d184d",
   "metadata": {},
   "source": [
    "# 3. Descriptive Statistics"
   ]
  },
  {
   "cell_type": "code",
   "execution_count": 11,
   "id": "e1b6ff99",
   "metadata": {},
   "outputs": [
    {
     "data": {
      "text/html": [
       "<div>\n",
       "<style scoped>\n",
       "    .dataframe tbody tr th:only-of-type {\n",
       "        vertical-align: middle;\n",
       "    }\n",
       "\n",
       "    .dataframe tbody tr th {\n",
       "        vertical-align: top;\n",
       "    }\n",
       "\n",
       "    .dataframe thead th {\n",
       "        text-align: right;\n",
       "    }\n",
       "</style>\n",
       "<table border=\"1\" class=\"dataframe\">\n",
       "  <thead>\n",
       "    <tr style=\"text-align: right;\">\n",
       "      <th></th>\n",
       "      <th>CustomerID</th>\n",
       "      <th>Age</th>\n",
       "      <th>Annual Income (k$)</th>\n",
       "      <th>Spending Score (1-100)</th>\n",
       "    </tr>\n",
       "  </thead>\n",
       "  <tbody>\n",
       "    <tr>\n",
       "      <th>count</th>\n",
       "      <td>200.000000</td>\n",
       "      <td>200.000000</td>\n",
       "      <td>200.000000</td>\n",
       "      <td>200.000000</td>\n",
       "    </tr>\n",
       "    <tr>\n",
       "      <th>mean</th>\n",
       "      <td>100.500000</td>\n",
       "      <td>38.850000</td>\n",
       "      <td>60.560000</td>\n",
       "      <td>50.200000</td>\n",
       "    </tr>\n",
       "    <tr>\n",
       "      <th>std</th>\n",
       "      <td>57.879185</td>\n",
       "      <td>13.969007</td>\n",
       "      <td>26.264721</td>\n",
       "      <td>25.823522</td>\n",
       "    </tr>\n",
       "    <tr>\n",
       "      <th>min</th>\n",
       "      <td>1.000000</td>\n",
       "      <td>18.000000</td>\n",
       "      <td>15.000000</td>\n",
       "      <td>1.000000</td>\n",
       "    </tr>\n",
       "    <tr>\n",
       "      <th>25%</th>\n",
       "      <td>50.750000</td>\n",
       "      <td>28.750000</td>\n",
       "      <td>41.500000</td>\n",
       "      <td>34.750000</td>\n",
       "    </tr>\n",
       "    <tr>\n",
       "      <th>50%</th>\n",
       "      <td>100.500000</td>\n",
       "      <td>36.000000</td>\n",
       "      <td>61.500000</td>\n",
       "      <td>50.000000</td>\n",
       "    </tr>\n",
       "    <tr>\n",
       "      <th>75%</th>\n",
       "      <td>150.250000</td>\n",
       "      <td>49.000000</td>\n",
       "      <td>78.000000</td>\n",
       "      <td>73.000000</td>\n",
       "    </tr>\n",
       "    <tr>\n",
       "      <th>max</th>\n",
       "      <td>200.000000</td>\n",
       "      <td>70.000000</td>\n",
       "      <td>137.000000</td>\n",
       "      <td>99.000000</td>\n",
       "    </tr>\n",
       "  </tbody>\n",
       "</table>\n",
       "</div>"
      ],
      "text/plain": [
       "       CustomerID         Age  Annual Income (k$)  Spending Score (1-100)\n",
       "count  200.000000  200.000000          200.000000              200.000000\n",
       "mean   100.500000   38.850000           60.560000               50.200000\n",
       "std     57.879185   13.969007           26.264721               25.823522\n",
       "min      1.000000   18.000000           15.000000                1.000000\n",
       "25%     50.750000   28.750000           41.500000               34.750000\n",
       "50%    100.500000   36.000000           61.500000               50.000000\n",
       "75%    150.250000   49.000000           78.000000               73.000000\n",
       "max    200.000000   70.000000          137.000000               99.000000"
      ]
     },
     "execution_count": 11,
     "metadata": {},
     "output_type": "execute_result"
    }
   ],
   "source": [
    "ds.describe()"
   ]
  },
  {
   "cell_type": "markdown",
   "id": "f1a84dc3",
   "metadata": {},
   "source": [
    "# 4.Handling missing value"
   ]
  },
  {
   "cell_type": "code",
   "execution_count": 12,
   "id": "488d27e2",
   "metadata": {},
   "outputs": [
    {
     "data": {
      "text/plain": [
       "CustomerID                0\n",
       "Gender                    0\n",
       "Age                       0\n",
       "Annual Income (k$)        0\n",
       "Spending Score (1-100)    0\n",
       "dtype: int64"
      ]
     },
     "execution_count": 12,
     "metadata": {},
     "output_type": "execute_result"
    }
   ],
   "source": [
    "ds.isnull().sum()"
   ]
  },
  {
   "cell_type": "markdown",
   "id": "982beba2",
   "metadata": {},
   "source": [
    "No missing values found"
   ]
  },
  {
   "cell_type": "markdown",
   "id": "7c80c36c",
   "metadata": {},
   "source": [
    "# 5.Finding and Handling the outliers"
   ]
  },
  {
   "cell_type": "code",
   "execution_count": 13,
   "id": "f4723202",
   "metadata": {},
   "outputs": [
    {
     "data": {
      "text/plain": [
       "<AxesSubplot:xlabel='Age'>"
      ]
     },
     "execution_count": 13,
     "metadata": {},
     "output_type": "execute_result"
    },
    {
     "data": {
      "image/png": "[encoded data removed]",
      "text/plain": [
       "<Figure size 432x288 with 1 Axes>"
      ]
     },
     "metadata": {
      "needs_background": "light"
     },
     "output_type": "display_data"
    }
   ],
   "source": [
    "sns.boxplot(x=ds['Age'])"
   ]
  },
  {
   "cell_type": "code",
   "execution_count": 14,
   "id": "0adaa5d5",
   "metadata": {},
   "outputs": [
    {
     "data": {
      "text/plain": [
       "<AxesSubplot:xlabel='Annual Income (k$)'>"
      ]
     },
     "execution_count": 14,
     "metadata": {},
     "output_type": "execute_result"
    },
    {
     "data": {
      "image/png": "[encoded data removed]",
      "text/plain": [
       "<Figure size 432x288 with 1 Axes>"
      ]
     },
     "metadata": {
      "needs_background": "light"
     },
     "output_type": "display_data"
    }
   ],
   "source": [
    "sns.boxplot(x=ds['Annual Income (k$)'])"
   ]
  },
  {
   "cell_type": "code",
   "execution_count": 15,
   "id": "fbcb9f34",
   "metadata": {},
   "outputs": [
    {
     "data": {
      "text/plain": [
       "<AxesSubplot:xlabel='Spending Score (1-100)'>"
      ]
     },
     "execution_count": 15,
     "metadata": {},
     "output_type": "execute_result"
    },
    {
     "data": {
      "image/png": "[encoded data removed]",
      "text/plain": [
       "<Figure size 432x288 with 1 Axes>"
      ]
     },
     "metadata": {
      "needs_background": "light"
     },
     "output_type": "display_data"
    }
   ],
   "source": [
    "sns.boxplot(x=ds['Spending Score (1-100)'])"
   ]
  },
  {
   "cell_type": "code",
   "execution_count": 16,
   "id": "0d1af68e",
   "metadata": {},
   "outputs": [
    {
     "data": {
      "text/plain": [
       "<AxesSubplot:>"
      ]
     },
     "execution_count": 16,
     "metadata": {},
     "output_type": "execute_result"
    },
    {
     "data": {
      "image/png": "[encoded data removed]",
      "text/plain": [
       "<Figure size 432x288 with 1 Axes>"
      ]
     },
     "metadata": {
      "needs_background": "light"
     },
     "output_type": "display_data"
    }
   ],
   "source": [
    "ds['Annual Income (k$)'].hist()"
   ]
  },
  {
   "cell_type": "code",
   "execution_count": 17,
   "id": "67ea35a9",
   "metadata": {},
   "outputs": [
    {
     "name": "stdout",
     "output_type": "stream",
     "text": [
      "skewness value of Annual Income (k$):  0.3218425498619055\n"
     ]
    }
   ],
   "source": [
    "print('skewness value of Annual Income (k$): ',ds['Annual Income (k$)'].skew())"
   ]
  },
  {
   "cell_type": "code",
   "execution_count": 18,
   "id": "5fbefe86",
   "metadata": {},
   "outputs": [
    {
     "data": {
      "text/plain": [
       "<AxesSubplot:xlabel='Annual Income (k$)'>"
      ]
     },
     "execution_count": 18,
     "metadata": {},
     "output_type": "execute_result"
    },
    {
     "data": {
      "image/png": "[encoded data removed]",
      "text/plain": [
       "<Figure size 432x288 with 1 Axes>"
      ]
     },
     "metadata": {
      "needs_background": "light"
     },
     "output_type": "display_data"
    }
   ],
   "source": [
    "Q1 = ds['Annual Income (k$)'].quantile(0.25)\n",
    "Q2 = ds['Annual Income (k$)'].quantile(0.75)\n",
    "IQR = Q2 - Q1\n",
    "whisker_width = 1.5\n",
    "lower_whisker = Q1 -(whisker_width*IQR)\n",
    "upper_whisker = Q2 +(whisker_width*IQR)\n",
    "ds['Annual Income (k$)']=np.where(ds['Annual Income (k$)']>upper_whisker,upper_whisker,np.where(ds['Annual Income (k$)']<lower_whisker,lower_whisker,ds['Annual Income (k$)']))\n",
    "sns.boxplot(x=ds['Annual Income (k$)'])"
   ]
  },
  {
   "cell_type": "markdown",
   "id": "e207a54a",
   "metadata": {},
   "source": [
    "# 6.Check for Categorical columns and perform encoding."
   ]
  },
  {
   "cell_type": "code",
   "execution_count": 19,
   "id": "2826dd71",
   "metadata": {},
   "outputs": [
    {
     "name": "stdout",
     "output_type": "stream",
     "text": [
      "<class 'pandas.core.frame.DataFrame'>\n",
      "RangeIndex: 200 entries, 0 to 199\n",
      "Data columns (total 5 columns):\n",
      " #   Column                  Non-Null Count  Dtype  \n",
      "---  ------                  --------------  -----  \n",
      " 0   CustomerID              200 non-null    int64  \n",
      " 1   Gender                  200 non-null    object \n",
      " 2   Age                     200 non-null    int64  \n",
      " 3   Annual Income (k$)      200 non-null    float64\n",
      " 4   Spending Score (1-100)  200 non-null    int64  \n",
      "dtypes: float64(1), int64(3), object(1)\n",
      "memory usage: 7.9+ KB\n"
     ]
    }
   ],
   "source": [
    "ds.info()"
   ]
  },
  {
   "cell_type": "code",
   "execution_count": 20,
   "id": "b763524e",
   "metadata": {},
   "outputs": [
    {
     "data": {
      "text/html": [
       "<div>\n",
       "<style scoped>\n",
       "    .dataframe tbody tr th:only-of-type {\n",
       "        vertical-align: middle;\n",
       "    }\n",
       "\n",
       "    .dataframe tbody tr th {\n",
       "        vertical-align: top;\n",
       "    }\n",
       "\n",
       "    .dataframe thead th {\n",
       "        text-align: right;\n",
       "    }\n",
       "</style>\n",
       "<table border=\"1\" class=\"dataframe\">\n",
       "  <thead>\n",
       "    <tr style=\"text-align: right;\">\n",
       "      <th></th>\n",
       "      <th>CustomerID</th>\n",
       "      <th>Gender</th>\n",
       "      <th>Age</th>\n",
       "      <th>Annual Income (k$)</th>\n",
       "      <th>Spending Score (1-100)</th>\n",
       "    </tr>\n",
       "  </thead>\n",
       "  <tbody>\n",
       "    <tr>\n",
       "      <th>0</th>\n",
       "      <td>1</td>\n",
       "      <td>1</td>\n",
       "      <td>19</td>\n",
       "      <td>15.0</td>\n",
       "      <td>39</td>\n",
       "    </tr>\n",
       "    <tr>\n",
       "      <th>1</th>\n",
       "      <td>2</td>\n",
       "      <td>1</td>\n",
       "      <td>21</td>\n",
       "      <td>15.0</td>\n",
       "      <td>81</td>\n",
       "    </tr>\n",
       "    <tr>\n",
       "      <th>2</th>\n",
       "      <td>3</td>\n",
       "      <td>0</td>\n",
       "      <td>20</td>\n",
       "      <td>16.0</td>\n",
       "      <td>6</td>\n",
       "    </tr>\n",
       "    <tr>\n",
       "      <th>3</th>\n",
       "      <td>4</td>\n",
       "      <td>0</td>\n",
       "      <td>23</td>\n",
       "      <td>16.0</td>\n",
       "      <td>77</td>\n",
       "    </tr>\n",
       "    <tr>\n",
       "      <th>4</th>\n",
       "      <td>5</td>\n",
       "      <td>0</td>\n",
       "      <td>31</td>\n",
       "      <td>17.0</td>\n",
       "      <td>40</td>\n",
       "    </tr>\n",
       "  </tbody>\n",
       "</table>\n",
       "</div>"
      ],
      "text/plain": [
       "   CustomerID  Gender  Age  Annual Income (k$)  Spending Score (1-100)\n",
       "0           1       1   19                15.0                      39\n",
       "1           2       1   21                15.0                      81\n",
       "2           3       0   20                16.0                       6\n",
       "3           4       0   23                16.0                      77\n",
       "4           5       0   31                17.0                      40"
      ]
     },
     "execution_count": 20,
     "metadata": {},
     "output_type": "execute_result"
    }
   ],
   "source": [
    "le=LabelEncoder()\n",
    "ds['Gender']=le.fit_transform(ds['Gender'])\n",
    "ds.head()"
   ]
  },
  {
   "cell_type": "markdown",
   "id": "daaf1f71",
   "metadata": {},
   "source": [
    "# 7.Scaling the data"
   ]
  },
  {
   "cell_type": "code",
   "execution_count": 21,
   "id": "7bb59ea2",
   "metadata": {},
   "outputs": [],
   "source": [
    "xscale=ds[[\"Age\",\"Spending Score (1-100)\"]]\n",
    "x_scaled = preprocessing.scale(xscale)"
   ]
  },
  {
   "cell_type": "markdown",
   "id": "0cba8c9d",
   "metadata": {},
   "source": [
    "# 8.Performing Clustering"
   ]
  },
  {
   "cell_type": "code",
   "execution_count": 22,
   "id": "c6af8a39",
   "metadata": {},
   "outputs": [
    {
     "name": "stderr",
     "output_type": "stream",
     "text": [
      "C:\\Users\\KHSR\\anaconda3\\lib\\site-packages\\sklearn\\cluster\\_kmeans.py:881: UserWarning: KMeans is known to have a memory leak on Windows with MKL, when there are less chunks than available threads. You can avoid it by setting the environment variable OMP_NUM_THREADS=1.\n",
      "  warnings.warn(\n"
     ]
    },
    {
     "data": {
      "text/plain": [
       "[400.00000000000006,\n",
       " 189.3874903399244,\n",
       " 124.32628617921526,\n",
       " 89.84853511210653,\n",
       " 71.0936414145941,\n",
       " 53.142672193834564,\n",
       " 46.22634035662258,\n",
       " 39.38346792029827,\n",
       " 34.15282654855128]"
      ]
     },
     "execution_count": 22,
     "metadata": {},
     "output_type": "execute_result"
    }
   ],
   "source": [
    "wcss=[]\n",
    "for i in range(1,10):\n",
    "    kmeans = KMeans(i)\n",
    "    kmeans.fit(x_scaled)\n",
    "    wcss_iter=kmeans.inertia_\n",
    "    wcss.append(wcss_iter)\n",
    "wcss"
   ]
  },
  {
   "cell_type": "code",
   "execution_count": 23,
   "id": "7c91d6b2",
   "metadata": {},
   "outputs": [
    {
     "data": {
      "text/plain": [
       "Text(0, 0.5, 'Within-cluster Sum of Squares')"
      ]
     },
     "execution_count": 23,
     "metadata": {},
     "output_type": "execute_result"
    },
    {
     "data": {
      "image/png": "[encoded data removed]",
      "text/plain": [
       "<Figure size 432x288 with 1 Axes>"
      ]
     },
     "metadata": {
      "needs_background": "light"
     },
     "output_type": "display_data"
    }
   ],
   "source": [
    "number_clusters = range(1,10)\n",
    "plt.plot(number_clusters, wcss)\n",
    "plt.title('The Elbow Method')\n",
    "plt.xlabel('Number of clusters')\n",
    "plt.ylabel('Within-cluster Sum of Squares')"
   ]
  },
  {
   "cell_type": "code",
   "execution_count": 24,
   "id": "23aeabb8",
   "metadata": {},
   "outputs": [
    {
     "data": {
      "text/plain": [
       "KMeans(n_clusters=3)"
      ]
     },
     "execution_count": 24,
     "metadata": {},
     "output_type": "execute_result"
    }
   ],
   "source": [
    "kmeans = KMeans(3)\n",
    "kmeans.fit(x_scaled)"
   ]
  },
  {
   "cell_type": "code",
   "execution_count": 25,
   "id": "4cdde061",
   "metadata": {},
   "outputs": [
    {
     "data": {
      "text/html": [
       "<div>\n",
       "<style scoped>\n",
       "    .dataframe tbody tr th:only-of-type {\n",
       "        vertical-align: middle;\n",
       "    }\n",
       "\n",
       "    .dataframe tbody tr th {\n",
       "        vertical-align: top;\n",
       "    }\n",
       "\n",
       "    .dataframe thead th {\n",
       "        text-align: right;\n",
       "    }\n",
       "</style>\n",
       "<table border=\"1\" class=\"dataframe\">\n",
       "  <thead>\n",
       "    <tr style=\"text-align: right;\">\n",
       "      <th></th>\n",
       "      <th>CustomerID</th>\n",
       "      <th>Gender</th>\n",
       "      <th>Age</th>\n",
       "      <th>Annual Income (k$)</th>\n",
       "      <th>Spending Score (1-100)</th>\n",
       "      <th>Clusters</th>\n",
       "    </tr>\n",
       "  </thead>\n",
       "  <tbody>\n",
       "    <tr>\n",
       "      <th>0</th>\n",
       "      <td>1</td>\n",
       "      <td>1</td>\n",
       "      <td>19</td>\n",
       "      <td>15.0</td>\n",
       "      <td>39</td>\n",
       "      <td>2</td>\n",
       "    </tr>\n",
       "    <tr>\n",
       "      <th>1</th>\n",
       "      <td>2</td>\n",
       "      <td>1</td>\n",
       "      <td>21</td>\n",
       "      <td>15.0</td>\n",
       "      <td>81</td>\n",
       "      <td>0</td>\n",
       "    </tr>\n",
       "    <tr>\n",
       "      <th>2</th>\n",
       "      <td>3</td>\n",
       "      <td>0</td>\n",
       "      <td>20</td>\n",
       "      <td>16.0</td>\n",
       "      <td>6</td>\n",
       "      <td>2</td>\n",
       "    </tr>\n",
       "    <tr>\n",
       "      <th>3</th>\n",
       "      <td>4</td>\n",
       "      <td>0</td>\n",
       "      <td>23</td>\n",
       "      <td>16.0</td>\n",
       "      <td>77</td>\n",
       "      <td>0</td>\n",
       "    </tr>\n",
       "    <tr>\n",
       "      <th>4</th>\n",
       "      <td>5</td>\n",
       "      <td>0</td>\n",
       "      <td>31</td>\n",
       "      <td>17.0</td>\n",
       "      <td>40</td>\n",
       "      <td>2</td>\n",
       "    </tr>\n",
       "  </tbody>\n",
       "</table>\n",
       "</div>"
      ],
      "text/plain": [
       "   CustomerID  Gender  Age  Annual Income (k$)  Spending Score (1-100)  \\\n",
       "0           1       1   19                15.0                      39   \n",
       "1           2       1   21                15.0                      81   \n",
       "2           3       0   20                16.0                       6   \n",
       "3           4       0   23                16.0                      77   \n",
       "4           5       0   31                17.0                      40   \n",
       "\n",
       "   Clusters  \n",
       "0         2  \n",
       "1         0  \n",
       "2         2  \n",
       "3         0  \n",
       "4         2  "
      ]
     },
     "execution_count": 25,
     "metadata": {},
     "output_type": "execute_result"
    }
   ],
   "source": [
    "data_with_clusters = ds.copy()\n",
    "data_with_clusters['Clusters'] = kmeans.fit_predict(x_scaled) \n",
    "data_with_clusters.head()"
   ]
  },
  {
   "cell_type": "code",
   "execution_count": 26,
   "id": "65f4bed1",
   "metadata": {},
   "outputs": [
    {
     "data": {
      "image/png": "[encoded data removed]",
      "text/plain": [
       "<Figure size 432x288 with 1 Axes>"
      ]
     },
     "metadata": {
      "needs_background": "light"
     },
     "output_type": "display_data"
    }
   ],
   "source": [
    "plt.scatter(ds['Age'],ds['Spending Score (1-100)'], c=data_with_clusters['Clusters'], cmap='rainbow')\n",
    "plt.title('Spending Score and Age')\n",
    "plt.xlabel('Age')\n",
    "plt.ylabel('Spending Score (1-100)')\n",
    "plt.show()"
   ]
  },
  {
   "cell_type": "markdown",
   "id": "081d4cd7",
   "metadata": {},
   "source": [
    "# 9.Spliting the data into dependent and independent variables"
   ]
  },
  {
   "cell_type": "code",
   "execution_count": 27,
   "id": "3f12eb20",
   "metadata": {},
   "outputs": [
    {
     "name": "stdout",
     "output_type": "stream",
     "text": [
      "Shape of x: (200, 4)\n",
      "Shape of y: (200,)\n"
     ]
    },
    {
     "data": {
      "text/html": [
       "<div>\n",
       "<style scoped>\n",
       "    .dataframe tbody tr th:only-of-type {\n",
       "        vertical-align: middle;\n",
       "    }\n",
       "\n",
       "    .dataframe tbody tr th {\n",
       "        vertical-align: top;\n",
       "    }\n",
       "\n",
       "    .dataframe thead th {\n",
       "        text-align: right;\n",
       "    }\n",
       "</style>\n",
       "<table border=\"1\" class=\"dataframe\">\n",
       "  <thead>\n",
       "    <tr style=\"text-align: right;\">\n",
       "      <th></th>\n",
       "      <th>CustomerID</th>\n",
       "      <th>Gender</th>\n",
       "      <th>Age</th>\n",
       "      <th>Spending Score (1-100)</th>\n",
       "    </tr>\n",
       "  </thead>\n",
       "  <tbody>\n",
       "    <tr>\n",
       "      <th>0</th>\n",
       "      <td>1</td>\n",
       "      <td>1</td>\n",
       "      <td>19</td>\n",
       "      <td>39</td>\n",
       "    </tr>\n",
       "    <tr>\n",
       "      <th>1</th>\n",
       "      <td>2</td>\n",
       "      <td>1</td>\n",
       "      <td>21</td>\n",
       "      <td>81</td>\n",
       "    </tr>\n",
       "    <tr>\n",
       "      <th>2</th>\n",
       "      <td>3</td>\n",
       "      <td>0</td>\n",
       "      <td>20</td>\n",
       "      <td>6</td>\n",
       "    </tr>\n",
       "    <tr>\n",
       "      <th>3</th>\n",
       "      <td>4</td>\n",
       "      <td>0</td>\n",
       "      <td>23</td>\n",
       "      <td>77</td>\n",
       "    </tr>\n",
       "    <tr>\n",
       "      <th>4</th>\n",
       "      <td>5</td>\n",
       "      <td>0</td>\n",
       "      <td>31</td>\n",
       "      <td>40</td>\n",
       "    </tr>\n",
       "  </tbody>\n",
       "</table>\n",
       "</div>"
      ],
      "text/plain": [
       "   CustomerID  Gender  Age  Spending Score (1-100)\n",
       "0           1       1   19                      39\n",
       "1           2       1   21                      81\n",
       "2           3       0   20                       6\n",
       "3           4       0   23                      77\n",
       "4           5       0   31                      40"
      ]
     },
     "execution_count": 27,
     "metadata": {},
     "output_type": "execute_result"
    }
   ],
   "source": [
    "X=ds.drop(columns=[\"Annual Income (k$)\"],axis=1)\n",
    "y=ds[\"Annual Income (k$)\"]\n",
    "print(\"Shape of x:\", X.shape)\n",
    "print(\"Shape of y:\", y.shape)\n",
    "X.head()"
   ]
  },
  {
   "cell_type": "code",
   "execution_count": 28,
   "id": "958416e7",
   "metadata": {},
   "outputs": [
    {
     "name": "stdout",
     "output_type": "stream",
     "text": [
      "\n",
      "After min max Scaling : \n",
      " [[0.         1.         0.01923077 0.3877551 ]\n",
      " [0.00502513 1.         0.05769231 0.81632653]\n",
      " [0.01005025 0.         0.03846154 0.05102041]\n",
      " [0.01507538 0.         0.09615385 0.7755102 ]\n",
      " [0.0201005  0.         0.25       0.39795918]\n",
      " [0.02512563 0.         0.07692308 0.76530612]\n",
      " [0.03015075 0.         0.32692308 0.05102041]\n",
      " [0.03517588 0.         0.09615385 0.94897959]\n",
      " [0.04020101 1.         0.88461538 0.02040816]\n",
      " [0.04522613 0.         0.23076923 0.7244898 ]\n",
      " [0.05025126 1.         0.94230769 0.13265306]\n",
      " [0.05527638 0.         0.32692308 1.        ]\n",
      " [0.06030151 0.         0.76923077 0.14285714]\n",
      " [0.06532663 0.         0.11538462 0.7755102 ]\n",
      " [0.07035176 1.         0.36538462 0.12244898]\n",
      " [0.07537688 1.         0.07692308 0.79591837]\n",
      " [0.08040201 0.         0.32692308 0.34693878]\n",
      " [0.08542714 1.         0.03846154 0.66326531]\n",
      " [0.09045226 1.         0.65384615 0.28571429]\n",
      " [0.09547739 0.         0.32692308 0.98979592]\n",
      " [0.10050251 1.         0.32692308 0.34693878]\n",
      " [0.10552764 1.         0.13461538 0.73469388]\n",
      " [0.11055276 0.         0.53846154 0.04081633]\n",
      " [0.11557789 1.         0.25       0.73469388]\n",
      " [0.12060302 0.         0.69230769 0.13265306]\n",
      " [0.12562814 1.         0.21153846 0.82653061]\n",
      " [0.13065327 0.         0.51923077 0.31632653]\n",
      " [0.13567839 1.         0.32692308 0.6122449 ]\n",
      " [0.14070352 0.         0.42307692 0.30612245]\n",
      " [0.14572864 0.         0.09615385 0.87755102]\n",
      " [0.15075377 1.         0.80769231 0.03061224]\n",
      " [0.15577889 0.         0.05769231 0.73469388]\n",
      " [0.16080402 1.         0.67307692 0.03061224]\n",
      " [0.16582915 1.         0.         0.92857143]\n",
      " [0.17085427 0.         0.59615385 0.13265306]\n",
      " [0.1758794  0.         0.05769231 0.81632653]\n",
      " [0.18090452 0.         0.46153846 0.16326531]\n",
      " [0.18592965 0.         0.23076923 0.73469388]\n",
      " [0.19095477 0.         0.34615385 0.25510204]\n",
      " [0.1959799  0.         0.03846154 0.75510204]\n",
      " [0.20100503 0.         0.90384615 0.34693878]\n",
      " [0.20603015 1.         0.11538462 0.92857143]\n",
      " [0.21105528 1.         0.57692308 0.35714286]\n",
      " [0.2160804  0.         0.25       0.6122449 ]\n",
      " [0.22110553 0.         0.59615385 0.2755102 ]\n",
      " [0.22613065 0.         0.11538462 0.65306122]\n",
      " [0.23115578 0.         0.61538462 0.55102041]\n",
      " [0.2361809  0.         0.17307692 0.46938776]\n",
      " [0.24120603 0.         0.21153846 0.41836735]\n",
      " [0.24623116 0.         0.25       0.41836735]\n",
      " [0.25125628 0.         0.59615385 0.52040816]\n",
      " [0.25628141 1.         0.28846154 0.60204082]\n",
      " [0.26130653 0.         0.25       0.54081633]\n",
      " [0.26633166 1.         0.78846154 0.60204082]\n",
      " [0.27135678 0.         0.61538462 0.44897959]\n",
      " [0.27638191 1.         0.55769231 0.40816327]\n",
      " [0.28140704 0.         0.63461538 0.5       ]\n",
      " [0.28643216 1.         0.98076923 0.45918367]\n",
      " [0.29145729 0.         0.17307692 0.51020408]\n",
      " [0.29648241 1.         0.67307692 0.45918367]\n",
      " [0.30150754 1.         1.         0.56122449]\n",
      " [0.30653266 1.         0.01923077 0.55102041]\n",
      " [0.31155779 0.         0.94230769 0.52040816]\n",
      " [0.31658291 0.         0.69230769 0.59183673]\n",
      " [0.32160804 1.         0.86538462 0.51020408]\n",
      " [0.32663317 1.         0.         0.59183673]\n",
      " [0.33165829 0.         0.48076923 0.5       ]\n",
      " [0.33668342 0.         0.96153846 0.47959184]\n",
      " [0.34170854 1.         0.01923077 0.59183673]\n",
      " [0.34673367 0.         0.26923077 0.46938776]\n",
      " [0.35175879 1.         1.         0.55102041]\n",
      " [0.35678392 0.         0.55769231 0.41836735]\n",
      " [0.36180905 0.         0.80769231 0.48979592]\n",
      " [0.36683417 0.         0.80769231 0.56122449]\n",
      " [0.3718593  1.         0.78846154 0.46938776]\n",
      " [0.37688442 1.         0.15384615 0.54081633]\n",
      " [0.38190955 0.         0.51923077 0.53061224]\n",
      " [0.38693467 1.         0.42307692 0.47959184]\n",
      " [0.3919598  0.         0.09615385 0.52040816]\n",
      " [0.39698492 0.         0.59615385 0.41836735]\n",
      " [0.40201005 1.         0.75       0.51020408]\n",
      " [0.40703518 1.         0.38461538 0.55102041]\n",
      " [0.4120603  1.         0.94230769 0.40816327]\n",
      " [0.41708543 0.         0.53846154 0.43877551]\n",
      " [0.42211055 0.         0.05769231 0.57142857]\n",
      " [0.42713568 1.         0.57692308 0.45918367]\n",
      " [0.4321608  0.         0.71153846 0.58163265]\n",
      " [0.43718593 0.         0.07692308 0.55102041]\n",
      " [0.44221106 0.         0.30769231 0.60204082]\n",
      " [0.44723618 0.         0.61538462 0.45918367]\n",
      " [0.45226131 0.         0.96153846 0.55102041]\n",
      " [0.45728643 1.         0.         0.40816327]\n",
      " [0.46231156 1.         0.57692308 0.48979592]\n",
      " [0.46733668 0.         0.42307692 0.39795918]\n",
      " [0.47236181 0.         0.26923077 0.41836735]\n",
      " [0.47738693 1.         0.11538462 0.52040816]\n",
      " [0.48241206 0.         0.55769231 0.46938776]\n",
      " [0.48743719 0.         0.17307692 0.5       ]\n",
      " [0.49246231 1.         0.57692308 0.41836735]\n",
      " [0.49748744 1.         0.03846154 0.48979592]\n",
      " [0.50251256 0.         0.09615385 0.40816327]\n",
      " [0.50753769 0.         0.59615385 0.47959184]\n",
      " [0.51256281 1.         0.94230769 0.59183673]\n",
      " [0.51758794 1.         0.15384615 0.55102041]\n",
      " [0.52261307 1.         0.59615385 0.56122449]\n",
      " [0.52763819 0.         0.05769231 0.41836735]\n",
      " [0.53266332 0.         0.92307692 0.5       ]\n",
      " [0.53768844 1.         0.69230769 0.45918367]\n",
      " [0.54271357 1.         0.96153846 0.42857143]\n",
      " [0.54773869 1.         0.92307692 0.47959184]\n",
      " [0.55276382 1.         0.90384615 0.52040816]\n",
      " [0.55778894 0.         0.01923077 0.54081633]\n",
      " [0.56281407 0.         0.38461538 0.41836735]\n",
      " [0.5678392  1.         0.01923077 0.45918367]\n",
      " [0.57286432 0.         0.         0.47959184]\n",
      " [0.57788945 0.         0.01923077 0.5       ]\n",
      " [0.58291457 0.         0.86538462 0.42857143]\n",
      " [0.5879397  0.         0.59615385 0.59183673]\n",
      " [0.59296482 0.         0.63461538 0.42857143]\n",
      " [0.59798995 0.         0.61538462 0.57142857]\n",
      " [0.60301508 1.         0.17307692 0.56122449]\n",
      " [0.6080402  0.         0.38461538 0.39795918]\n",
      " [0.61306533 0.         0.42307692 0.58163265]\n",
      " [0.61809045 1.         0.40384615 0.91836735]\n",
      " [0.62311558 0.         0.09615385 0.28571429]\n",
      " [0.6281407  0.         0.25       0.7755102 ]\n",
      " [0.63316583 1.         0.48076923 0.34693878]\n",
      " [0.63819095 1.         0.42307692 0.95918367]\n",
      " [0.64321608 1.         0.78846154 0.10204082]\n",
      " [0.64824121 1.         0.38461538 0.75510204]\n",
      " [0.65326633 1.         0.55769231 0.08163265]\n",
      " [0.65829146 1.         0.40384615 0.75510204]\n",
      " [0.66331658 0.         0.13461538 0.33673469]\n",
      " [0.66834171 0.         0.25       0.71428571]\n",
      " [0.67336683 1.         0.03846154 0.04081633]\n",
      " [0.67839196 0.         0.21153846 0.8877551 ]\n",
      " [0.68341709 0.         0.5        0.06122449]\n",
      " [0.68844221 1.         0.26923077 0.73469388]\n",
      " [0.69346734 1.         0.01923077 0.09183673]\n",
      " [0.69849246 0.         0.32692308 0.7244898 ]\n",
      " [0.70351759 0.         0.75       0.04081633]\n",
      " [0.70854271 1.         0.26923077 0.93877551]\n",
      " [0.71356784 0.         0.19230769 0.39795918]\n",
      " [0.71859296 0.         0.26923077 0.87755102]\n",
      " [0.72361809 1.         0.13461538 0.1122449 ]\n",
      " [0.72864322 1.         0.19230769 0.97959184]\n",
      " [0.73366834 1.         0.57692308 0.35714286]\n",
      " [0.73869347 0.         0.26923077 0.74489796]\n",
      " [0.74371859 0.         0.30769231 0.21428571]\n",
      " [0.74874372 1.         0.30769231 0.90816327]\n",
      " [0.75376884 1.         0.48076923 0.16326531]\n",
      " [0.75879397 1.         0.40384615 0.8877551 ]\n",
      " [0.7638191  0.         0.5        0.19387755]\n",
      " [0.76884422 0.         0.38461538 0.76530612]\n",
      " [0.77386935 0.         0.55769231 0.15306122]\n",
      " [0.77889447 0.         0.17307692 0.89795918]\n",
      " [0.7839196  1.         0.36538462 0.        ]\n",
      " [0.78894472 0.         0.23076923 0.78571429]\n",
      " [0.79396985 1.         0.30769231 0.        ]\n",
      " [0.79899497 0.         0.23076923 0.73469388]\n",
      " [0.8040201  0.         0.73076923 0.34693878]\n",
      " [0.80904523 0.         0.21153846 0.83673469]\n",
      " [0.81407035 1.         0.01923077 0.04081633]\n",
      " [0.81909548 0.         0.25       0.93877551]\n",
      " [0.8241206  1.         0.61538462 0.25510204]\n",
      " [0.82914573 0.         0.34615385 0.75510204]\n",
      " [0.83417085 1.         0.46153846 0.19387755]\n",
      " [0.83919598 0.         0.28846154 0.95918367]\n",
      " [0.84422111 0.         0.34615385 0.26530612]\n",
      " [0.84924623 1.         0.26923077 0.63265306]\n",
      " [0.85427136 1.         0.42307692 0.12244898]\n",
      " [0.85929648 1.         0.19230769 0.75510204]\n",
      " [0.86432161 1.         0.34615385 0.09183673]\n",
      " [0.86934673 1.         0.34615385 0.92857143]\n",
      " [0.87437186 0.         0.65384615 0.12244898]\n",
      " [0.87939698 0.         0.23076923 0.86734694]\n",
      " [0.88442211 1.         0.76923077 0.14285714]\n",
      " [0.88944724 1.         0.17307692 0.69387755]\n",
      " [0.89447236 1.         0.78846154 0.13265306]\n",
      " [0.89949749 1.         0.32692308 0.90816327]\n",
      " [0.90452261 0.         0.36538462 0.31632653]\n",
      " [0.90954774 0.         0.26923077 0.86734694]\n",
      " [0.91457286 1.         0.53846154 0.14285714]\n",
      " [0.91959799 0.         0.21153846 0.8877551 ]\n",
      " [0.92462312 0.         0.44230769 0.3877551 ]\n",
      " [0.92964824 1.         0.23076923 0.97959184]\n",
      " [0.93467337 0.         0.69230769 0.23469388]\n",
      " [0.93969849 1.         0.19230769 0.68367347]\n",
      " [0.94472362 0.         0.44230769 0.16326531]\n",
      " [0.94974874 0.         0.34615385 0.85714286]\n",
      " [0.95477387 0.         0.30769231 0.2244898 ]\n",
      " [0.95979899 0.         0.26923077 0.69387755]\n",
      " [0.96482412 1.         0.28846154 0.07142857]\n",
      " [0.96984925 0.         0.38461538 0.91836735]\n",
      " [0.97487437 0.         0.55769231 0.15306122]\n",
      " [0.9798995  0.         0.32692308 0.79591837]\n",
      " [0.98492462 0.         0.51923077 0.2755102 ]\n",
      " [0.98994975 1.         0.26923077 0.74489796]\n",
      " [0.99497487 1.         0.26923077 0.17346939]\n",
      " [1.         1.         0.23076923 0.83673469]]\n"
     ]
    }
   ],
   "source": [
    "min_max_scaler = preprocessing.MinMaxScaler(feature_range =(0, 1))\n",
    "x_scaler = min_max_scaler.fit_transform(X)\n",
    "print (\"\\nAfter min max Scaling : \\n\", x_scaler)"
   ]
  },
  {
   "cell_type": "code",
   "execution_count": 29,
   "id": "1ddaf76e",
   "metadata": {},
   "outputs": [
    {
     "name": "stdout",
     "output_type": "stream",
     "text": [
      "\n",
      "After Standardisation : \n",
      " [[-1.7234121   1.12815215 -1.42456879 -0.43480148]\n",
      " [-1.70609137  1.12815215 -1.28103541  1.19570407]\n",
      " [-1.68877065 -0.88640526 -1.3528021  -1.71591298]\n",
      " [-1.67144992 -0.88640526 -1.13750203  1.04041783]\n",
      " [-1.6541292  -0.88640526 -0.56336851 -0.39597992]\n",
      " [-1.63680847 -0.88640526 -1.20926872  1.00159627]\n",
      " [-1.61948775 -0.88640526 -0.27630176 -1.71591298]\n",
      " [-1.60216702 -0.88640526 -1.13750203  1.70038436]\n",
      " [-1.5848463   1.12815215  1.80493225 -1.83237767]\n",
      " [-1.56752558 -0.88640526 -0.6351352   0.84631002]\n",
      " [-1.55020485  1.12815215  2.02023231 -1.4053405 ]\n",
      " [-1.53288413 -0.88640526 -0.27630176  1.89449216]\n",
      " [-1.5155634  -0.88640526  1.37433211 -1.36651894]\n",
      " [-1.49824268 -0.88640526 -1.06573534  1.04041783]\n",
      " [-1.48092195  1.12815215 -0.13276838 -1.44416206]\n",
      " [-1.46360123  1.12815215 -1.20926872  1.11806095]\n",
      " [-1.4462805  -0.88640526 -0.27630176 -0.59008772]\n",
      " [-1.42895978  1.12815215 -1.3528021   0.61338066]\n",
      " [-1.41163905  1.12815215  0.94373197 -0.82301709]\n",
      " [-1.39431833 -0.88640526 -0.27630176  1.8556706 ]\n",
      " [-1.3769976   1.12815215 -0.27630176 -0.59008772]\n",
      " [-1.35967688  1.12815215 -0.99396865  0.88513158]\n",
      " [-1.34235616 -0.88640526  0.51313183 -1.75473454]\n",
      " [-1.32503543  1.12815215 -0.56336851  0.88513158]\n",
      " [-1.30771471 -0.88640526  1.08726535 -1.4053405 ]\n",
      " [-1.29039398  1.12815215 -0.70690189  1.23452563]\n",
      " [-1.27307326 -0.88640526  0.44136514 -0.7065524 ]\n",
      " [-1.25575253  1.12815215 -0.27630176  0.41927286]\n",
      " [-1.23843181 -0.88640526  0.08253169 -0.74537397]\n",
      " [-1.22111108 -0.88640526 -1.13750203  1.42863343]\n",
      " [-1.20379036  1.12815215  1.51786549 -1.7935561 ]\n",
      " [-1.18646963 -0.88640526 -1.28103541  0.88513158]\n",
      " [-1.16914891  1.12815215  1.01549866 -1.7935561 ]\n",
      " [-1.15182818  1.12815215 -1.49633548  1.62274124]\n",
      " [-1.13450746 -0.88640526  0.7284319  -1.4053405 ]\n",
      " [-1.11718674 -0.88640526 -1.28103541  1.19570407]\n",
      " [-1.09986601 -0.88640526  0.22606507 -1.28887582]\n",
      " [-1.08254529 -0.88640526 -0.6351352   0.88513158]\n",
      " [-1.06522456 -0.88640526 -0.20453507 -0.93948177]\n",
      " [-1.04790384 -0.88640526 -1.3528021   0.96277471]\n",
      " [-1.03058311 -0.88640526  1.87669894 -0.59008772]\n",
      " [-1.01326239  1.12815215 -1.06573534  1.62274124]\n",
      " [-0.99594166  1.12815215  0.65666521 -0.55126616]\n",
      " [-0.97862094 -0.88640526 -0.56336851  0.41927286]\n",
      " [-0.96130021 -0.88640526  0.7284319  -0.86183865]\n",
      " [-0.94397949 -0.88640526 -1.06573534  0.5745591 ]\n",
      " [-0.92665877 -0.88640526  0.80019859  0.18634349]\n",
      " [-0.90933804 -0.88640526 -0.85043527 -0.12422899]\n",
      " [-0.89201732 -0.88640526 -0.70690189 -0.3183368 ]\n",
      " [-0.87469659 -0.88640526 -0.56336851 -0.3183368 ]\n",
      " [-0.85737587 -0.88640526  0.7284319   0.06987881]\n",
      " [-0.84005514  1.12815215 -0.41983513  0.38045129]\n",
      " [-0.82273442 -0.88640526 -0.56336851  0.14752193]\n",
      " [-0.80541369  1.12815215  1.4460988   0.38045129]\n",
      " [-0.78809297 -0.88640526  0.80019859 -0.20187212]\n",
      " [-0.77077224  1.12815215  0.58489852 -0.35715836]\n",
      " [-0.75345152 -0.88640526  0.87196528 -0.00776431]\n",
      " [-0.73613079  1.12815215  2.16376569 -0.16305055]\n",
      " [-0.71881007 -0.88640526 -0.85043527  0.03105725]\n",
      " [-0.70148935  1.12815215  1.01549866 -0.16305055]\n",
      " [-0.68416862  1.12815215  2.23553238  0.22516505]\n",
      " [-0.6668479   1.12815215 -1.42456879  0.18634349]\n",
      " [-0.64952717 -0.88640526  2.02023231  0.06987881]\n",
      " [-0.63220645 -0.88640526  1.08726535  0.34162973]\n",
      " [-0.61488572  1.12815215  1.73316556  0.03105725]\n",
      " [-0.597565    1.12815215 -1.49633548  0.34162973]\n",
      " [-0.58024427 -0.88640526  0.29783176 -0.00776431]\n",
      " [-0.56292355 -0.88640526  2.091999   -0.08540743]\n",
      " [-0.54560282  1.12815215 -1.42456879  0.34162973]\n",
      " [-0.5282821  -0.88640526 -0.49160182 -0.12422899]\n",
      " [-0.51096138  1.12815215  2.23553238  0.18634349]\n",
      " [-0.49364065 -0.88640526  0.58489852 -0.3183368 ]\n",
      " [-0.47631993 -0.88640526  1.51786549 -0.04658587]\n",
      " [-0.4589992  -0.88640526  1.51786549  0.22516505]\n",
      " [-0.44167848  1.12815215  1.4460988  -0.12422899]\n",
      " [-0.42435775  1.12815215 -0.92220196  0.14752193]\n",
      " [-0.40703703 -0.88640526  0.44136514  0.10870037]\n",
      " [-0.3897163   1.12815215  0.08253169 -0.08540743]\n",
      " [-0.37239558 -0.88640526 -1.13750203  0.06987881]\n",
      " [-0.35507485 -0.88640526  0.7284319  -0.3183368 ]\n",
      " [-0.33775413  1.12815215  1.30256542  0.03105725]\n",
      " [-0.3204334   1.12815215 -0.06100169  0.18634349]\n",
      " [-0.30311268  1.12815215  2.02023231 -0.35715836]\n",
      " [-0.28579196 -0.88640526  0.51313183 -0.24069368]\n",
      " [-0.26847123 -0.88640526 -1.28103541  0.26398661]\n",
      " [-0.25115051  1.12815215  0.65666521 -0.16305055]\n",
      " [-0.23382978 -0.88640526  1.15903204  0.30280817]\n",
      " [-0.21650906 -0.88640526 -1.20926872  0.18634349]\n",
      " [-0.19918833 -0.88640526 -0.34806844  0.38045129]\n",
      " [-0.18186761 -0.88640526  0.80019859 -0.16305055]\n",
      " [-0.16454688 -0.88640526  2.091999    0.18634349]\n",
      " [-0.14722616  1.12815215 -1.49633548 -0.35715836]\n",
      " [-0.12990543  1.12815215  0.65666521 -0.04658587]\n",
      " [-0.11258471 -0.88640526  0.08253169 -0.39597992]\n",
      " [-0.09526399 -0.88640526 -0.49160182 -0.3183368 ]\n",
      " [-0.07794326  1.12815215 -1.06573534  0.06987881]\n",
      " [-0.06062254 -0.88640526  0.58489852 -0.12422899]\n",
      " [-0.04330181 -0.88640526 -0.85043527 -0.00776431]\n",
      " [-0.02598109  1.12815215  0.65666521 -0.3183368 ]\n",
      " [-0.00866036  1.12815215 -1.3528021  -0.04658587]\n",
      " [ 0.00866036 -0.88640526 -1.13750203 -0.35715836]\n",
      " [ 0.02598109 -0.88640526  0.7284319  -0.08540743]\n",
      " [ 0.04330181  1.12815215  2.02023231  0.34162973]\n",
      " [ 0.06062254  1.12815215 -0.92220196  0.18634349]\n",
      " [ 0.07794326  1.12815215  0.7284319   0.22516505]\n",
      " [ 0.09526399 -0.88640526 -1.28103541 -0.3183368 ]\n",
      " [ 0.11258471 -0.88640526  1.94846562 -0.00776431]\n",
      " [ 0.12990543  1.12815215  1.08726535 -0.16305055]\n",
      " [ 0.14722616  1.12815215  2.091999   -0.27951524]\n",
      " [ 0.16454688  1.12815215  1.94846562 -0.08540743]\n",
      " [ 0.18186761  1.12815215  1.87669894  0.06987881]\n",
      " [ 0.19918833 -0.88640526 -1.42456879  0.14752193]\n",
      " [ 0.21650906 -0.88640526 -0.06100169 -0.3183368 ]\n",
      " [ 0.23382978  1.12815215 -1.42456879 -0.16305055]\n",
      " [ 0.25115051 -0.88640526 -1.49633548 -0.08540743]\n",
      " [ 0.26847123 -0.88640526 -1.42456879 -0.00776431]\n",
      " [ 0.28579196 -0.88640526  1.73316556 -0.27951524]\n",
      " [ 0.30311268 -0.88640526  0.7284319   0.34162973]\n",
      " [ 0.3204334  -0.88640526  0.87196528 -0.27951524]\n",
      " [ 0.33775413 -0.88640526  0.80019859  0.26398661]\n",
      " [ 0.35507485  1.12815215 -0.85043527  0.22516505]\n",
      " [ 0.37239558 -0.88640526 -0.06100169 -0.39597992]\n",
      " [ 0.3897163  -0.88640526  0.08253169  0.30280817]\n",
      " [ 0.40703703  1.12815215  0.010765    1.58391968]\n",
      " [ 0.42435775 -0.88640526 -1.13750203 -0.82301709]\n",
      " [ 0.44167848 -0.88640526 -0.56336851  1.04041783]\n",
      " [ 0.4589992   1.12815215  0.29783176 -0.59008772]\n",
      " [ 0.47631993  1.12815215  0.08253169  1.73920592]\n",
      " [ 0.49364065  1.12815215  1.4460988  -1.52180518]\n",
      " [ 0.51096138  1.12815215 -0.06100169  0.96277471]\n",
      " [ 0.5282821   1.12815215  0.58489852 -1.5994483 ]\n",
      " [ 0.54560282  1.12815215  0.010765    0.96277471]\n",
      " [ 0.56292355 -0.88640526 -0.99396865 -0.62890928]\n",
      " [ 0.58024427 -0.88640526 -0.56336851  0.80748846]\n",
      " [ 0.597565    1.12815215 -1.3528021  -1.75473454]\n",
      " [ 0.61488572 -0.88640526 -0.70690189  1.46745499]\n",
      " [ 0.63220645 -0.88640526  0.36959845 -1.67709142]\n",
      " [ 0.64952717  1.12815215 -0.49160182  0.88513158]\n",
      " [ 0.6668479   1.12815215 -1.42456879 -1.56062674]\n",
      " [ 0.68416862 -0.88640526 -0.27630176  0.84631002]\n",
      " [ 0.70148935 -0.88640526  1.30256542 -1.75473454]\n",
      " [ 0.71881007  1.12815215 -0.49160182  1.6615628 ]\n",
      " [ 0.73613079 -0.88640526 -0.77866858 -0.39597992]\n",
      " [ 0.75345152 -0.88640526 -0.49160182  1.42863343]\n",
      " [ 0.77077224  1.12815215 -0.99396865 -1.48298362]\n",
      " [ 0.78809297  1.12815215 -0.77866858  1.81684904]\n",
      " [ 0.80541369  1.12815215  0.65666521 -0.55126616]\n",
      " [ 0.82273442 -0.88640526 -0.49160182  0.92395314]\n",
      " [ 0.84005514 -0.88640526 -0.34806844 -1.09476801]\n",
      " [ 0.85737587  1.12815215 -0.34806844  1.54509812]\n",
      " [ 0.87469659  1.12815215  0.29783176 -1.28887582]\n",
      " [ 0.89201732  1.12815215  0.010765    1.46745499]\n",
      " [ 0.90933804 -0.88640526  0.36959845 -1.17241113]\n",
      " [ 0.92665877 -0.88640526 -0.06100169  1.00159627]\n",
      " [ 0.94397949 -0.88640526  0.58489852 -1.32769738]\n",
      " [ 0.96130021 -0.88640526 -0.85043527  1.50627656]\n",
      " [ 0.97862094  1.12815215 -0.13276838 -1.91002079]\n",
      " [ 0.99594166 -0.88640526 -0.6351352   1.07923939]\n",
      " [ 1.01326239  1.12815215 -0.34806844 -1.91002079]\n",
      " [ 1.03058311 -0.88640526 -0.6351352   0.88513158]\n",
      " [ 1.04790384 -0.88640526  1.23079873 -0.59008772]\n",
      " [ 1.06522456 -0.88640526 -0.70690189  1.27334719]\n",
      " [ 1.08254529  1.12815215 -1.42456879 -1.75473454]\n",
      " [ 1.09986601 -0.88640526 -0.56336851  1.6615628 ]\n",
      " [ 1.11718674  1.12815215  0.80019859 -0.93948177]\n",
      " [ 1.13450746 -0.88640526 -0.20453507  0.96277471]\n",
      " [ 1.15182818  1.12815215  0.22606507 -1.17241113]\n",
      " [ 1.16914891 -0.88640526 -0.41983513  1.73920592]\n",
      " [ 1.18646963 -0.88640526 -0.20453507 -0.90066021]\n",
      " [ 1.20379036  1.12815215 -0.49160182  0.49691598]\n",
      " [ 1.22111108  1.12815215  0.08253169 -1.44416206]\n",
      " [ 1.23843181  1.12815215 -0.77866858  0.96277471]\n",
      " [ 1.25575253  1.12815215 -0.20453507 -1.56062674]\n",
      " [ 1.27307326  1.12815215 -0.20453507  1.62274124]\n",
      " [ 1.29039398 -0.88640526  0.94373197 -1.44416206]\n",
      " [ 1.30771471 -0.88640526 -0.6351352   1.38981187]\n",
      " [ 1.32503543  1.12815215  1.37433211 -1.36651894]\n",
      " [ 1.34235616  1.12815215 -0.85043527  0.72984534]\n",
      " [ 1.35967688  1.12815215  1.4460988  -1.4053405 ]\n",
      " [ 1.3769976   1.12815215 -0.27630176  1.54509812]\n",
      " [ 1.39431833 -0.88640526 -0.13276838 -0.7065524 ]\n",
      " [ 1.41163905 -0.88640526 -0.49160182  1.38981187]\n",
      " [ 1.42895978  1.12815215  0.51313183 -1.36651894]\n",
      " [ 1.4462805  -0.88640526 -0.70690189  1.46745499]\n",
      " [ 1.46360123 -0.88640526  0.15429838 -0.43480148]\n",
      " [ 1.48092195  1.12815215 -0.6351352   1.81684904]\n",
      " [ 1.49824268 -0.88640526  1.08726535 -1.01712489]\n",
      " [ 1.5155634   1.12815215 -0.77866858  0.69102378]\n",
      " [ 1.53288413 -0.88640526  0.15429838 -1.28887582]\n",
      " [ 1.55020485 -0.88640526 -0.20453507  1.35099031]\n",
      " [ 1.56752558 -0.88640526 -0.34806844 -1.05594645]\n",
      " [ 1.5848463  -0.88640526 -0.49160182  0.72984534]\n",
      " [ 1.60216702  1.12815215 -0.41983513 -1.63826986]\n",
      " [ 1.61948775 -0.88640526 -0.06100169  1.58391968]\n",
      " [ 1.63680847 -0.88640526  0.58489852 -1.32769738]\n",
      " [ 1.6541292  -0.88640526 -0.27630176  1.11806095]\n",
      " [ 1.67144992 -0.88640526  0.44136514 -0.86183865]\n",
      " [ 1.68877065  1.12815215 -0.49160182  0.92395314]\n",
      " [ 1.70609137  1.12815215 -0.49160182 -1.25005425]\n",
      " [ 1.7234121   1.12815215 -0.6351352   1.27334719]]\n"
     ]
    }
   ],
   "source": [
    "Standardisation = preprocessing.StandardScaler()\n",
    "x_after_Standardisation = Standardisation.fit_transform(X)\n",
    "print (\"\\nAfter Standardisation : \\n\", x_after_Standardisation)"
   ]
  },
  {
   "cell_type": "markdown",
   "id": "be8354a4",
   "metadata": {},
   "source": [
    "# 10.Spliting the data into training and testing"
   ]
  },
  {
   "cell_type": "code",
   "execution_count": 30,
   "id": "9fe61707",
   "metadata": {},
   "outputs": [
    {
     "name": "stdout",
     "output_type": "stream",
     "text": [
      "Shape of x_train : (160, 4)\n",
      "Shape of x_test : (40, 4)\n",
      "Shape of y_train : (160,)\n",
      "Shape of y_test : (40,)\n"
     ]
    }
   ],
   "source": [
    "x_train, x_test, y_train, y_test = train_test_split(X,y, test_size = 0.2, random_state = 0)\n",
    "print(\"Shape of x_train :\", x_train.shape)\n",
    "print(\"Shape of x_test :\", x_test.shape)\n",
    "print(\"Shape of y_train :\", y_train.shape)\n",
    "print(\"Shape of y_test :\", y_test.shape)"
   ]
  },
  {
   "cell_type": "markdown",
   "id": "1b63d0ce",
   "metadata": {},
   "source": [
    "# 11.Building,Training and Testing the model"
   ]
  },
  {
   "cell_type": "code",
   "execution_count": 31,
   "id": "9b7e550b",
   "metadata": {},
   "outputs": [
    {
     "data": {
      "text/plain": [
       "LinearRegression()"
      ]
     },
     "execution_count": 31,
     "metadata": {},
     "output_type": "execute_result"
    }
   ],
   "source": [
    "model=LinearRegression()\n",
    "model.fit(x_train,y_train)"
   ]
  },
  {
   "cell_type": "code",
   "execution_count": 32,
   "id": "7c1a48bb",
   "metadata": {
    "scrolled": true
   },
   "outputs": [],
   "source": [
    "model_predict=model.predict(x_test)"
   ]
  },
  {
   "cell_type": "markdown",
   "id": "b1a3fea1",
   "metadata": {},
   "source": [
    "# 12.Measuring the performance using Evaluation Metrics."
   ]
  },
  {
   "cell_type": "code",
   "execution_count": 33,
   "id": "84d4c4ad",
   "metadata": {},
   "outputs": [
    {
     "name": "stdout",
     "output_type": "stream",
     "text": [
      "r2 score in percentage:98.39%\n"
     ]
    }
   ],
   "source": [
    "evalution_method=r2_score(model_predict,y_test)\n",
    "print(f'r2 score in percentage:{(evalution_method)*100:.2f}%')"
   ]
  }
 ],
 "metadata": {
  "kernelspec": {
   "display_name": "Python 3",
   "language": "python",
   "name": "python3"
  },
  "language_info": {
   "codemirror_mode": {
    "name": "ipython",
    "version": 3
   },
   "file_extension": ".py",
   "mimetype": "text/x-python",
   "name": "python",
   "nbconvert_exporter": "python",
   "pygments_lexer": "ipython3",
   "version": "3.8.8"
  }
 },
 "nbformat": 4,
 "nbformat_minor": 5
}
